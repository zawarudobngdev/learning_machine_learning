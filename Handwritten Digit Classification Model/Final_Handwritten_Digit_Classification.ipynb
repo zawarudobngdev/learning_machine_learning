{
  "nbformat": 4,
  "nbformat_minor": 0,
  "metadata": {
    "colab": {
      "provenance": [],
      "gpuType": "T4",
      "authorship_tag": "ABX9TyNstWT1OdN2GMYQlS5+q2kF",
      "include_colab_link": true
    },
    "kernelspec": {
      "name": "python3",
      "display_name": "Python 3"
    },
    "language_info": {
      "name": "python"
    },
    "accelerator": "GPU"
  },
  "cells": [
    {
      "cell_type": "markdown",
      "metadata": {
        "id": "view-in-github",
        "colab_type": "text"
      },
      "source": [
        "<a href=\"https://colab.research.google.com/github/zawarudobngdev/learning_machine_learning/blob/master/Handwritten%20Digit%20Classification%20Model/Final_Handwritten_Digit_Classification.ipynb\" target=\"_parent\"><img src=\"https://colab.research.google.com/assets/colab-badge.svg\" alt=\"Open In Colab\"/></a>"
      ]
    },
    {
      "cell_type": "markdown",
      "source": [
        "# Handwritten Digit Classification Model\n",
        "\n",
        "#### A model made for the Izycode Machine Learning Internship Program\n",
        "\n",
        "It is a model that recognizes handwritten digits (0-9) using the MNIST dataset, a foundational task in image classification. It accurately classifies images of handwritten digits, setting the stage for more advanced image\n",
        "recognition applications.\n",
        "\n",
        "I have separeted this task into 3 steps across 3 notebooks to better showcase the developing process.\n",
        "\n",
        "This notebook is the final version where the model is already trained and saved. It then loads the model, prepares the data and makes the prediction."
      ],
      "metadata": {
        "id": "9ElIX9c8nmOM"
      }
    },
    {
      "cell_type": "markdown",
      "source": [
        "## Evaluating the model\n",
        "\n",
        "Evaluating the model on the test dataset"
      ],
      "metadata": {
        "id": "8pWiZ8NlS8kP"
      }
    },
    {
      "cell_type": "code",
      "source": [
        "# importing modules\n",
        "from tensorflow.keras.datasets import mnist\n",
        "from tensorflow.keras.models import load_model\n",
        "from tensorflow.keras.utils import to_categorical\n",
        "\n",
        "from numpy import argmax\n",
        "from keras.preprocessing.image import load_img\n",
        "from keras.preprocessing.image import img_to_array\n",
        "\n",
        "from matplotlib import pyplot as plt\n",
        "import matplotlib.image as mpimg"
      ],
      "metadata": {
        "id": "YqIEAIuPQAVA"
      },
      "execution_count": null,
      "outputs": []
    },
    {
      "cell_type": "code",
      "source": [
        "# load train and test dataset\n",
        "def load_dataset():\n",
        "  # load dataset\n",
        "  (trainX, trainY), (testX, testY) = mnist.load_data()\n",
        "  # reshape dataset to have a single channel\n",
        "  trainX = trainX.reshape((trainX.shape[0], 28, 28, 1))\n",
        "  testX = testX.reshape((testX.shape[0], 28, 28, 1))\n",
        "\n",
        "  # one hot encode target values\n",
        "  trainY = to_categorical(trainY)\n",
        "  testY = to_categorical(testY)\n",
        "\n",
        "  return trainX, trainY, testX, testY"
      ],
      "metadata": {
        "id": "V_5HnEPeSUHZ"
      },
      "execution_count": null,
      "outputs": []
    },
    {
      "cell_type": "code",
      "source": [
        "# scale pixels\n",
        "def prep_pixels(train, test):\n",
        " # convert from integers to floats\n",
        " train_norm = train.astype('float32')\n",
        " test_norm = test.astype('float32')\n",
        " # normalize to range 0-1\n",
        " train_norm = train_norm / 255.0\n",
        " test_norm = test_norm / 255.0\n",
        " # return normalized images\n",
        " return train_norm, test_norm"
      ],
      "metadata": {
        "id": "0QLFSJqWSXGH"
      },
      "execution_count": null,
      "outputs": []
    },
    {
      "cell_type": "markdown",
      "source": [
        "Inside the run_test_harness function we load the model and evaluate it."
      ],
      "metadata": {
        "id": "DRTGSUV2hfms"
      }
    },
    {
      "cell_type": "code",
      "source": [
        "# run the test harness for evaluating a model\n",
        "def run_test_harness():\n",
        " # load dataset\n",
        " trainX, trainY, testX, testY = load_dataset()\n",
        " # prepare pixel data\n",
        " trainX, testX = prep_pixels(trainX, testX)\n",
        " # load model\n",
        " model = load_model('final_model.keras')\n",
        " # evaluate model on test dataset\n",
        " _, acc = model.evaluate(testX, testY, verbose=0)\n",
        " print('> %.3f' % (acc * 100.0))"
      ],
      "metadata": {
        "id": "UkZ7iCEFSQxA"
      },
      "execution_count": null,
      "outputs": []
    },
    {
      "cell_type": "code",
      "source": [
        "# entry point, run the test harness\n",
        "run_test_harness()"
      ],
      "metadata": {
        "colab": {
          "base_uri": "https://localhost:8080/"
        },
        "id": "6-pBNvunfqDe",
        "outputId": "82077857-eca3-4cdc-e35f-6a211d98a6e4"
      },
      "execution_count": null,
      "outputs": [
        {
          "output_type": "stream",
          "name": "stdout",
          "text": [
            "> 99.320\n"
          ]
        }
      ]
    },
    {
      "cell_type": "markdown",
      "source": [
        "## Prediction\n",
        "\n",
        "Now we can make predictions.\n",
        "\n",
        "Here we take a random image of a handwritten digit and plot it to showcase, in this case it is the number 7."
      ],
      "metadata": {
        "id": "nHQmiNKHl5vc"
      }
    },
    {
      "cell_type": "code",
      "source": [
        "# make a prediction for a new image.\n",
        "\n",
        "img = mpimg.imread('sample_image.png')\n",
        "plt.imshow(img)\n",
        "plt.axis('off')\n",
        "plt.show()"
      ],
      "metadata": {
        "colab": {
          "base_uri": "https://localhost:8080/",
          "height": 406
        },
        "id": "dcDGGRmOjzyd",
        "outputId": "b91ef6a6-a63e-4054-8844-e8b069759f4f"
      },
      "execution_count": null,
      "outputs": [
        {
          "output_type": "display_data",
          "data": {
            "text/plain": [
              "<Figure size 640x480 with 1 Axes>"
            ],
            "image/png": "[encoded data removed]"
          },
          "metadata": {}
        }
      ]
    },
    {
      "cell_type": "markdown",
      "source": [
        "Load and prepare the image"
      ],
      "metadata": {
        "id": "OzekGmyZhyIF"
      }
    },
    {
      "cell_type": "code",
      "source": [
        "# load and prepare the image\n",
        "def load_image(filename):\n",
        " # load the image\n",
        " img = load_img(filename, color_mode='grayscale', target_size=(28, 28))\n",
        " # convert to array\n",
        " img = img_to_array(img)\n",
        " # reshape into a single sample with 1 channel\n",
        " img = img.reshape(1, 28, 28, 1)\n",
        " # prepare pixel data\n",
        " img = img.astype('float32')\n",
        " img = img / 255.0\n",
        " return img"
      ],
      "metadata": {
        "id": "lDs3HM1sizD2"
      },
      "execution_count": null,
      "outputs": []
    },
    {
      "cell_type": "markdown",
      "source": [
        "And run the example."
      ],
      "metadata": {
        "id": "45KT2KNXh20D"
      }
    },
    {
      "cell_type": "code",
      "source": [
        "# load an image and predict the class\n",
        "def run_example():\n",
        " # load the image\n",
        " img = load_image('sample_image.png')\n",
        " # load model\n",
        " model = load_model('final_model.keras')\n",
        " # predict the class\n",
        " predict_value = model.predict(img)\n",
        " digit = argmax(predict_value)\n",
        " print(digit)"
      ],
      "metadata": {
        "id": "w0KeUq10i-GH"
      },
      "execution_count": null,
      "outputs": []
    },
    {
      "cell_type": "code",
      "source": [
        "# entry point, run the example\n",
        "run_example()"
      ],
      "metadata": {
        "colab": {
          "base_uri": "https://localhost:8080/"
        },
        "id": "T3LUjUUrjJuV",
        "outputId": "b7b9e73c-1c1c-4ad9-c759-33e6263c74a8"
      },
      "execution_count": null,
      "outputs": [
        {
          "output_type": "stream",
          "name": "stdout",
          "text": [
            "1/1 [==============================] - 0s 65ms/step\n",
            "7\n"
          ]
        }
      ]
    },
    {
      "cell_type": "markdown",
      "source": [
        "As we can see, the predicted number is indeed the digit 7."
      ],
      "metadata": {
        "id": "raHHl7ZDh8kQ"
      }
    }
  ]
}